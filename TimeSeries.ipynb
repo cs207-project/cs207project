{
 "cells": [
  {
   "cell_type": "code",
   "execution_count": 99,
   "metadata": {
    "collapsed": false
   },
   "outputs": [],
   "source": [
    "import numpy as np\n",
    "\n",
    "class TimeSeries():\n",
    "    '''\n",
    "    \"\"\"\n",
    "Help on package TimeSeries:\n",
    "\n",
    "NAME\n",
    "    TimeSeries\n",
    "\n",
    "DESCRIPTION\n",
    "    TimeSeries\n",
    "    =====\n",
    "    \n",
    "    Provides\n",
    "      1. An sequence or any iterable objects\n",
    "    \n",
    "    How to use the documentation\n",
    "    ----------------------------\n",
    "    Documentation is available in two forms: docstrings provided\n",
    "    with the code, and a loose standing reference guide, available from\n",
    "    `the TimeSeries homepage <https://github.com/cs207-project>`_.\n",
    "    \n",
    "    We recommend exploring the docstrings using\n",
    "    `IPython <http://ipython.scipy.org>`_, an advanced Python shell with\n",
    "    TAB-completion and introspection capabilities.  See below for further\n",
    "    instructions.\n",
    "    \n",
    "    The docstring examples assume that `numpy` has been imported as `np`::  \n",
    "      \n",
    "    \n",
    "    \n",
    "     |  Methods inherited from builtins.RuntimeWarning:\n",
    "     |  \n",
    "     |  __init__(self, *args, **kwargs)\n",
    "     |      Initialize self.  See help(type(self)) for accurate signature.\n",
    "     |      Stors a TimeSeries in self.TimeSeries_\n",
    "     |    \n",
    "     |  __repr__(self, /)\n",
    "     |      Return a printable sequence shown in python list format containing all values in [self].\n",
    "     |  \n",
    "     |  __str__(self, /)\n",
    "     |      Return a printable abbreviated sequence of maximum first 100 entrees.\n",
    "     |  \n",
    "     |  __getitem__(self, index)\n",
    "     |      Return self[index]\n",
    "     |\n",
    "     |  __setitem__(self, index, values)\n",
    "     |      Set self[index] = values\n",
    "     |\n",
    "     |  __len__(self)\n",
    "     |      Return len(self.TimeSeries_)\n",
    "     Examples\n",
    "     --------\n",
    "     >>> a = TimeSeries(np.arange(0,100))\n",
    "     >>> len(a)\n",
    "     100\n",
    "     >>> a[2]\n",
    "     2\n",
    "     >>> a[2]=3\n",
    "     >>> a[2]\n",
    "     3\n",
    "    '''\n",
    "    def __init__(self, times, values):\n",
    "        if (iter(times) and iter(values)):\n",
    "            self._TimeSeries=np.vstack((times,values))\n",
    "    \n",
    "    def __len__(self):\n",
    "        return len(self._TimeSeries[0])\n",
    "    \n",
    "    def __contains__(self, time):\n",
    "        index = np.where(self._TimeSeries[0]==time)\n",
    "        return index[0].size>0\n",
    "            \n",
    "    \n",
    "    def __getitem__(self,time):\n",
    "        if (time in self):\n",
    "            index = np.where(self._TimeSeries[0]==time)\n",
    "            return self._TimeSeries[1][index]\n",
    "        else:\n",
    "            print (\"no time point at t={0}\".format(time))\n",
    "\n",
    "    def __setitem__(self,time,value):\n",
    "        if (time in self):\n",
    "            index = np.where(self._TimeSeries[0]==time)\n",
    "            self._TimeSeries[1][index]=value\n",
    "        else:\n",
    "            print (\"no time point at t={0}\".format(time))\n",
    "            \n",
    "    def __iter__(self):\n",
    "        return self._values\n",
    "\n",
    "    def __repr__(self):\n",
    "        return \"%r\"%(self._TimeSeries)\n",
    "    \n",
    "    def __str__(self):\n",
    "        className = type(self).__name__\n",
    "        if len(self._TimeSeries)>100:\n",
    "            return \"%s\" %('['+(str(self._TimeSeries[:99]))[1:-1]+'...'+']')\n",
    "        else:\n",
    "            return \"%s\" %(self._TimeSeries)"
   ]
  },
  {
   "cell_type": "code",
   "execution_count": 100,
   "metadata": {
    "collapsed": false
   },
   "outputs": [
    {
     "name": "stdout",
     "output_type": "stream",
     "text": [
      "no time point at t=-1\n",
      "[1]\n",
      "[2]\n"
     ]
    },
    {
     "ename": "TypeError",
     "evalue": "iter() returned non-iterator of type 'numpy.ndarray'",
     "output_type": "error",
     "traceback": [
      "\u001b[0;31m---------------------------------------------------------------------------\u001b[0m",
      "\u001b[0;31mTypeError\u001b[0m                                 Traceback (most recent call last)",
      "\u001b[0;32m<ipython-input-100-8cd1e9fd6dee>\u001b[0m in \u001b[0;36m<module>\u001b[0;34m()\u001b[0m\n\u001b[1;32m      5\u001b[0m \u001b[0ma\u001b[0m\u001b[0;34m[\u001b[0m\u001b[0;36m0\u001b[0m\u001b[0;34m]\u001b[0m\u001b[0;34m=\u001b[0m\u001b[0;36m2\u001b[0m\u001b[0;34m\u001b[0m\u001b[0m\n\u001b[1;32m      6\u001b[0m \u001b[0mprint\u001b[0m \u001b[0;34m(\u001b[0m\u001b[0ma\u001b[0m\u001b[0;34m[\u001b[0m\u001b[0;36m0\u001b[0m\u001b[0;34m]\u001b[0m\u001b[0;34m)\u001b[0m\u001b[0;34m\u001b[0m\u001b[0m\n\u001b[0;32m----> 7\u001b[0;31m \u001b[0mprint\u001b[0m \u001b[0;34m(\u001b[0m\u001b[0;34m[\u001b[0m\u001b[0mv\u001b[0m \u001b[0;32mfor\u001b[0m \u001b[0mv\u001b[0m \u001b[0;32min\u001b[0m \u001b[0ma\u001b[0m\u001b[0;34m]\u001b[0m\u001b[0;34m)\u001b[0m\u001b[0;34m\u001b[0m\u001b[0m\n\u001b[0m",
      "\u001b[0;31mTypeError\u001b[0m: iter() returned non-iterator of type 'numpy.ndarray'"
     ]
    }
   ],
   "source": [
    "#import numpy as np\n",
    "a = TimeSeries(np.arange(0,10),np.arange(1,11))\n",
    "a[-1]\n",
    "print (a[0])\n",
    "a[0]=2\n",
    "print (a[0])"
   ]
  },
  {
   "cell_type": "code",
   "execution_count": 25,
   "metadata": {
    "collapsed": false
   },
   "outputs": [
    {
     "name": "stdout",
     "output_type": "stream",
     "text": [
      "sum 233168\n"
     ]
    }
   ],
   "source": [
    "\n",
    "# projecteuler.net/problem=1\n",
    "# Note: this is decidely *not* the intended purpose of this class.\n",
    "\n",
    "threes = TimeSeries(range(0,1000,3))\n",
    "fives = TimeSeries(range(0,1000,5))\n",
    "\n",
    "s = 0\n",
    "for i in range(0,1000):\n",
    "  if i in threes or i in fives:\n",
    "    s += i\n",
    "\n",
    "print(\"sum\",s)"
   ]
  },
  {
   "cell_type": "code",
   "execution_count": 32,
   "metadata": {
    "collapsed": false
   },
   "outputs": [
    {
     "name": "stdout",
     "output_type": "stream",
     "text": [
      "Finding tests in NoName\n",
      "Trying:\n",
      "    a = TimeSeries(np.arange(0,100))\n",
      "Expecting nothing\n",
      "ok\n",
      "Trying:\n",
      "    len(a)\n",
      "Expecting:\n",
      "    100\n",
      "ok\n",
      "Trying:\n",
      "    a[2]\n",
      "Expecting:\n",
      "    2\n",
      "ok\n",
      "Trying:\n",
      "    a[2]=3\n",
      "Expecting nothing\n",
      "ok\n",
      "Trying:\n",
      "    a[2]\n",
      "Expecting:\n",
      "    3\n",
      "ok\n"
     ]
    }
   ],
   "source": [
    "from doctest import run_docstring_examples as dtest\n",
    "dtest(TimeSeries, globals(), verbose = True)"
   ]
  }
 ],
 "metadata": {
  "kernelspec": {
   "display_name": "Python 3",
   "language": "python",
   "name": "python3"
  },
  "language_info": {
   "codemirror_mode": {
    "name": "ipython",
    "version": 3
   },
   "file_extension": ".py",
   "mimetype": "text/x-python",
   "name": "python",
   "nbconvert_exporter": "python",
   "pygments_lexer": "ipython3",
   "version": "3.5.1"
  }
 },
 "nbformat": 4,
 "nbformat_minor": 0
}
