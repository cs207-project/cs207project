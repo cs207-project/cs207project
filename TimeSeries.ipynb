{
 "cells": [
  {
   "cell_type": "code",
   "execution_count": 31,
   "metadata": {
    "collapsed": false
   },
   "outputs": [],
   "source": [
    "class TimeSeries():\n",
    "    '''\n",
    "    \"\"\"\n",
    "Help on package TimeSeries:\n",
    "\n",
    "NAME\n",
    "    TimeSeries\n",
    "\n",
    "DESCRIPTION\n",
    "    TimeSeries\n",
    "    =====\n",
    "    \n",
    "    Provides\n",
    "      1. An sequence or any iterable objects\n",
    "    \n",
    "    How to use the documentation\n",
    "    ----------------------------\n",
    "    Documentation is available in two forms: docstrings provided\n",
    "    with the code, and a loose standing reference guide, available from\n",
    "    `the TimeSeries homepage <https://github.com/cs207-project>`_.\n",
    "    \n",
    "    We recommend exploring the docstrings using\n",
    "    `IPython <http://ipython.scipy.org>`_, an advanced Python shell with\n",
    "    TAB-completion and introspection capabilities.  See below for further\n",
    "    instructions.\n",
    "    \n",
    "    The docstring examples assume that `numpy` has been imported as `np`::  \n",
    "      \n",
    "    \n",
    "    \n",
    "     |  Methods inherited from builtins.RuntimeWarning:\n",
    "     |  \n",
    "     |  __init__(self, *args, **kwargs)\n",
    "     |      Initialize self.  See help(type(self)) for accurate signature.\n",
    "     |      Stors a TimeSeries in self.TimeSeries_\n",
    "     |    \n",
    "     |  __repr__(self, /)\n",
    "     |      Return a printable sequence shown in python list format containing all values in [self].\n",
    "     |  \n",
    "     |  __str__(self, /)\n",
    "     |      Return a printable abbreviated sequence of maximum first 100 entrees.\n",
    "     |  \n",
    "     |  __getitem__(self, index)\n",
    "     |      Return self[index]\n",
    "     |\n",
    "     |  __setitem__(self, index, values)\n",
    "     |      Set self[index] = values\n",
    "     |\n",
    "     |  __len__(self)\n",
    "     |      Return len(self.TimeSeries_)\n",
    "     Examples\n",
    "     --------\n",
    "     >>> a = TimeSeries(np.arange(0,100))\n",
    "     >>> len(a)\n",
    "     100\n",
    "     >>> a[2]\n",
    "     2\n",
    "     >>> a[2]=3\n",
    "     >>> a[2]\n",
    "     3\n",
    "    '''\n",
    "    def __init__(self,*args, **kwargs):\n",
    "        if (iter(*args)):\n",
    "            self._TimeSeries = list(*args)\n",
    "    \n",
    "    def __len__(self):\n",
    "        return len(self._TimeSeries)\n",
    "    \n",
    "    def __getitem__(self,index):\n",
    "        return self._TimeSeries[index]\n",
    "\n",
    "    def __setitem__(self,index,value):\n",
    "        self._TimeSeries[index] = value\n",
    "\n",
    "    def __repr__(self):\n",
    "        return \"%r\"%(self._TimeSeries)\n",
    "    \n",
    "    def __str__(self):\n",
    "        className = type(self).__name__\n",
    "        if len(self._TimeSeries)>100:\n",
    "            return \"%s\" %('['+(str(self._TimeSeries[:99]))[1:-1]+'...'+']')\n",
    "        else:\n",
    "            return \"%s\" %(self._TimeSeries)"
   ]
  },
  {
   "cell_type": "code",
   "execution_count": 24,
   "metadata": {
    "collapsed": false
   },
   "outputs": [
    {
     "name": "stdout",
     "output_type": "stream",
     "text": [
      "[0, 1, 2, 3, 4, 5, 6, 7, 8, 9, 10, 11, 12, 13, 14, 15, 16, 17, 18, 19, 20, 21, 22, 23, 24, 25, 26, 27, 28, 29, 30, 31, 32, 33, 34, 35, 36, 37, 38, 39, 40, 41, 42, 43, 44, 45, 46, 47, 48, 49, 50, 51, 52, 53, 54, 55, 56, 57, 58, 59, 60, 61, 62, 63, 64, 65, 66, 67, 68, 69, 70, 71, 72, 73, 74, 75, 76, 77, 78, 79, 80, 81, 82, 83, 84, 85, 86, 87, 88, 89, 90, 91, 92, 93, 94, 95, 96, 97, 98...]\n"
     ]
    }
   ],
   "source": [
    "import numpy as np\n",
    "a = TimeSeries(np.arange(0,1000))\n",
    "print(a)"
   ]
  },
  {
   "cell_type": "code",
   "execution_count": 25,
   "metadata": {
    "collapsed": false
   },
   "outputs": [
    {
     "name": "stdout",
     "output_type": "stream",
     "text": [
      "sum 233168\n"
     ]
    }
   ],
   "source": [
    "\n",
    "# projecteuler.net/problem=1\n",
    "# Note: this is decidely *not* the intended purpose of this class.\n",
    "\n",
    "threes = TimeSeries(range(0,1000,3))\n",
    "fives = TimeSeries(range(0,1000,5))\n",
    "\n",
    "s = 0\n",
    "for i in range(0,1000):\n",
    "  if i in threes or i in fives:\n",
    "    s += i\n",
    "\n",
    "print(\"sum\",s)"
   ]
  },
  {
   "cell_type": "code",
   "execution_count": 32,
   "metadata": {
    "collapsed": false
   },
   "outputs": [
    {
     "name": "stdout",
     "output_type": "stream",
     "text": [
      "Finding tests in NoName\n",
      "Trying:\n",
      "    a = TimeSeries(np.arange(0,100))\n",
      "Expecting nothing\n",
      "ok\n",
      "Trying:\n",
      "    len(a)\n",
      "Expecting:\n",
      "    100\n",
      "ok\n",
      "Trying:\n",
      "    a[2]\n",
      "Expecting:\n",
      "    2\n",
      "ok\n",
      "Trying:\n",
      "    a[2]=3\n",
      "Expecting nothing\n",
      "ok\n",
      "Trying:\n",
      "    a[2]\n",
      "Expecting:\n",
      "    3\n",
      "ok\n"
     ]
    }
   ],
   "source": [
    "from doctest import run_docstring_examples as dtest\n",
    "dtest(TimeSeries, globals(), verbose = True)"
   ]
  }
 ],
 "metadata": {
  "kernelspec": {
   "display_name": "Python 3",
   "language": "python",
   "name": "python3"
  },
  "language_info": {
   "codemirror_mode": {
    "name": "ipython",
    "version": 3
   },
   "file_extension": ".py",
   "mimetype": "text/x-python",
   "name": "python",
   "nbconvert_exporter": "python",
   "pygments_lexer": "ipython3",
   "version": "3.5.1"
  }
 },
 "nbformat": 4,
 "nbformat_minor": 0
}
