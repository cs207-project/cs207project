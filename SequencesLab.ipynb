{
 "cells": [
  {
   "cell_type": "markdown",
   "metadata": {},
   "source": [
    "### Q1.\n",
    "\n",
    "**Project exercise. Please do this with your team.**\n",
    "\n",
    "This question continues your implementation of the time series class you started on Monday. On Monday, you stored your time series as a python list. Today, you will store the data as a numpy 1-D array.\n",
    "\n",
    "Please implement a new class `ArrayTimeSeries` which inherits your `TimeSeries` class and uses `numpy.array` to store the data internally.\n",
    "\n",
    "At this point you will notice a fundamental mismatch: unlike python `list`s or `array.array`s which are dynamic, `numpy` expects you to provide a length of the sequence. This means that you cant process each element of the time series as it comes in, and must calculate the length of the input sequence to allocate space for the time series in your constructor. (This makes it hard to write a \"direct from file\" without intermdiate storage implementation; but we shall worry about this later).\n",
    "\n",
    "Because your class inherits from your `TimeSeries` class, you'll notice you get some functionality automatically. You may choose to reimplement `__getitem__`, `__setitem__`, and `__len__` at your discretion. Please do NOT implement a `__str__` or `__repr__` function. Note that this means the `__str__` and `__repr__` functions will need to work with both classes, and you may need to fix your original versions.\n",
    "\n",
    "Make sure that any doctests you wrote on Monday to test all kinds of sequences as input still pass. (If you didnt write any, how do you know your sime series Class from Monday is any good? We'll be testing your code by running our own tests as well!)"
   ]
  },
  {
   "cell_type": "code",
   "execution_count": 1,
   "metadata": {
    "collapsed": true
   },
   "outputs": [],
   "source": [
    "import numpy as np"
   ]
  },
  {
   "cell_type": "code",
   "execution_count": 7,
   "metadata": {
    "collapsed": true
   },
   "outputs": [],
   "source": [
    "class TimeSeries():\n",
    "    '''\n",
    "Help on package TimeSeries:\n",
    "\n",
    "NAME\n",
    "    TimeSeries\n",
    "\n",
    "DESCRIPTION\n",
    "    TimeSeries\n",
    "    =====\n",
    "    \n",
    "    Provides\n",
    "      1. An sequence or any iterable objects\n",
    "    \n",
    "    How to use the documentation\n",
    "    ----------------------------\n",
    "    Documentation is available in two forms: docstrings provided\n",
    "    with the code, and a loose standing reference guide, available from\n",
    "    `the TimeSeries homepage <https://github.com/cs207-project>`_.\n",
    "    \n",
    "    We recommend exploring the docstrings using\n",
    "    `IPython <http://ipython.scipy.org>`_, an advanced Python shell with\n",
    "    TAB-completion and introspection capabilities.  See below for further\n",
    "    instructions.\n",
    "    \n",
    "    The docstring examples assume that `numpy` has been imported as `np`::\n",
    "     \n",
    "    \n",
    "    \n",
    "    \n",
    "     |  Methods inherited from builtins.RuntimeWarning:\n",
    "     |  \n",
    "     |  __init__(self, *args, **kwargs)\n",
    "     |      Initialize self.  See help(type(self)) for accurate signature.\n",
    "     |      Stors a TimeSeries in self._TimeSeries\n",
    "     |    \n",
    "     |  __repr__(self, /)\n",
    "     |      Return a printable sequence shown in python list format containing all values in [self].\n",
    "     |  \n",
    "     |  __str__(self, /)\n",
    "     |      Return a printable abbreviated sequence of maximum first 100 entrees.\n",
    "     |  \n",
    "     |  __getitem__(self, index)\n",
    "     |      Return self[index]\n",
    "     |\n",
    "     |  __setitem__(self, index, values)\n",
    "     |      Set self[index] = values\n",
    "     |\n",
    "     |  __len__(self)\n",
    "     |      Return len(self._TimeSeries)\n",
    "     Examples\n",
    "     --------\n",
    "     >>> a = TimeSeries(np.arange(0,100))\n",
    "     >>> len(a)\n",
    "     100\n",
    "     >>> a[2]\n",
    "     2\n",
    "     >>> a[2]=3\n",
    "     >>> a[2]\n",
    "     3\n",
    "    '''\n",
    "    def __init__(self,*args, **kwargs):\n",
    "        if (iter(*args)):\n",
    "            self._TimeSeries = list(*args)\n",
    "    \n",
    "    def __len__(self):\n",
    "        return len(self._TimeSeries)\n",
    "    \n",
    "    def __getitem__(self,index):\n",
    "        return self._TimeSeries[index]\n",
    "\n",
    "    def __setitem__(self,index,value):\n",
    "        self._TimeSeries[index] = value\n",
    "    def __repr__(self):\n",
    "        return \"%r\"%(self._TimeSeries)\n",
    "    def __str__(self):\n",
    "        className = type(self).__name__\n",
    "        if len(self._TimeSeries)>100:\n",
    "            return \"%s\" %('['+(str(self._TimeSeries[:99]))[1:-1]+'...'+']')\n",
    "        else:\n",
    "            return \"%s\" %(self._TimeSeries)"
   ]
  },
  {
   "cell_type": "code",
   "execution_count": 8,
   "metadata": {
    "collapsed": true
   },
   "outputs": [],
   "source": [
    "class ArrayTimeSeries(TimeSeries):\n",
    "    '''\n",
    "    Examples\n",
    "     --------\n",
    "     >>> a = ArrayTimeSeries(np.arange(0,100))\n",
    "     >>> len(a)\n",
    "     100\n",
    "     >>> a[2]\n",
    "     2\n",
    "     >>> a[2]=3\n",
    "     >>> a[2]\n",
    "     3\n",
    "    '''\n",
    "        \n",
    "    def __init__(self,*args, **kwargs):\n",
    "        if (iter(*args)):\n",
    "            self._TimeSeries = np.array(*args)\n"
   ]
  },
  {
   "cell_type": "code",
   "execution_count": 4,
   "metadata": {
    "collapsed": false
   },
   "outputs": [
    {
     "name": "stdout",
     "output_type": "stream",
     "text": [
      "sum 233168\n",
      "CPU times: user 1.87 s, sys: 34.1 ms, total: 1.91 s\n",
      "Wall time: 1.95 s\n"
     ]
    }
   ],
   "source": [
    "%%time\n",
    "threes = ArrayTimeSeries(range(0,10000,3))\n",
    "fives = ArrayTimeSeries(range(0,10000,5))\n",
    "s = 0\n",
    "for i in range(0,1000):\n",
    "    if i in threes or i in fives:\n",
    "        s += i\n",
    "\n",
    "print(\"sum\",s)"
   ]
  },
  {
   "cell_type": "code",
   "execution_count": 5,
   "metadata": {
    "collapsed": false
   },
   "outputs": [
    {
     "name": "stdout",
     "output_type": "stream",
     "text": [
      "sum 233168\n",
      "CPU times: user 1.09 s, sys: 22 ms, total: 1.12 s\n",
      "Wall time: 1.14 s\n"
     ]
    }
   ],
   "source": [
    "%%time\n",
    "threes = TimeSeries(range(0,10000,3))\n",
    "fives = TimeSeries(range(0,10000,5))\n",
    "s = 0\n",
    "for i in range(0,1000):\n",
    "    if i in threes or i in fives:\n",
    "        s += i\n",
    "\n",
    "print(\"sum\",s)"
   ]
  },
  {
   "cell_type": "code",
   "execution_count": 9,
   "metadata": {
    "collapsed": false
   },
   "outputs": [
    {
     "name": "stdout",
     "output_type": "stream",
     "text": [
      "Finding tests in NoName\n",
      "Trying:\n",
      "    a = TimeSeries(np.arange(0,100))\n",
      "Expecting nothing\n",
      "ok\n",
      "Trying:\n",
      "    len(a)\n",
      "Expecting:\n",
      "    100\n",
      "ok\n",
      "Trying:\n",
      "    a[2]\n",
      "Expecting:\n",
      "    2\n",
      "ok\n",
      "Trying:\n",
      "    a[2]=3\n",
      "Expecting nothing\n",
      "ok\n",
      "Trying:\n",
      "    a[2]\n",
      "Expecting:\n",
      "    3\n",
      "ok\n",
      "Finding tests in NoName\n",
      "Trying:\n",
      "    a = ArrayTimeSeries(np.arange(0,100))\n",
      "Expecting nothing\n",
      "ok\n",
      "Trying:\n",
      "    len(a)\n",
      "Expecting:\n",
      "    100\n",
      "ok\n",
      "Trying:\n",
      "    a[2]\n",
      "Expecting:\n",
      "    2\n",
      "ok\n",
      "Trying:\n",
      "    a[2]=3\n",
      "Expecting nothing\n",
      "ok\n",
      "Trying:\n",
      "    a[2]\n",
      "Expecting:\n",
      "    3\n",
      "ok\n"
     ]
    }
   ],
   "source": [
    "from doctest import run_docstring_examples as dtest\n",
    "dtest(TimeSeries, globals(), verbose = True)\n",
    "dtest(ArrayTimeSeries, globals(), verbose = True)"
   ]
  },
  {
   "cell_type": "markdown",
   "metadata": {},
   "source": [
    "### Q2.\n",
    "\n",
    "**Individual exercise.**\n",
    "\n",
    "Add a `__setitem__` to the python linked list implementation from the lecture."
   ]
  },
  {
   "cell_type": "markdown",
   "metadata": {},
   "source": [
    "### Q3.\n",
    "\n",
    "**Individual exercise.**\n",
    "\n",
    "Finish the second part of last friday's C linked list lab: implement the `remove_item` and `get_index` functions. For fun, you might want to implement an `insert_back`, and `set_item` function as well."
   ]
  }
 ],
 "metadata": {
  "kernelspec": {
   "display_name": "Python 3",
   "language": "python",
   "name": "python3"
  },
  "language_info": {
   "codemirror_mode": {
    "name": "ipython",
    "version": 3
   },
   "file_extension": ".py",
   "mimetype": "text/x-python",
   "name": "python",
   "nbconvert_exporter": "python",
   "pygments_lexer": "ipython3",
   "version": "3.5.1"
  }
 },
 "nbformat": 4,
 "nbformat_minor": 0
}
